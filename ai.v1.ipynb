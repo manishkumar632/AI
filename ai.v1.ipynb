{
 "cells": [
  {
   "cell_type": "markdown",
   "id": "0f68c50c",
   "metadata": {},
   "source": [
    "# Step 1: Capture Voice and store it for later processing.\n",
    "Enhanced version with better error handling and efficiency."
   ]
  },
  {
   "cell_type": "code",
   "execution_count": 2,
   "id": "9239c03e",
   "metadata": {},
   "outputs": [
    {
     "name": "stdout",
     "output_type": "stream",
     "text": [
      "Initializing audio capture...\n",
      "Recording started... Speak now\n",
      "Recording started... Speak now\n",
      "Peak amplitude detected: 133\n",
      "Audio saved as: recorded_audio_20250704_202052.wav\n",
      "Successfully recorded 1.00 seconds of audio\n",
      "Peak amplitude detected: 133\n",
      "Audio saved as: recorded_audio_20250704_202052.wav\n",
      "Successfully recorded 1.00 seconds of audio\n"
     ]
    }
   ],
   "source": [
    "import sounddevice as sd\n",
    "import numpy as np\n",
    "import scipy.io.wavfile as wav\n",
    "from collections import deque\n",
    "from datetime import datetime\n",
    "\n",
    "def record_until_silence(threshold=500, silence_duration=1.0, sample_rate=44100, max_duration=10):\n",
    "    # Input validation\n",
    "    if not all(isinstance(x, (int, float)) for x in [threshold, silence_duration, sample_rate, max_duration]):\n",
    "        raise ValueError(\"All parameters must be numeric\")\n",
    "    if max_duration <= 0 or silence_duration <= 0:\n",
    "        raise ValueError(\"Duration parameters must be positive\")\n",
    "    \n",
    "    print(\"Initializing audio capture...\")\n",
    "    buffer = deque()  # More efficient than list for continuous appending\n",
    "    silence_samples = int(silence_duration * sample_rate)\n",
    "    silence_counter = 0\n",
    "    peak_amplitude = 0\n",
    "    \n",
    "    def callback(indata, frames, time, status):\n",
    "        nonlocal silence_counter, peak_amplitude\n",
    "        if status:\n",
    "            print(f'Status: {status}')\n",
    "        \n",
    "        current_amplitude = np.abs(indata).max()\n",
    "        peak_amplitude = max(peak_amplitude, current_amplitude)\n",
    "        buffer.append(indata.copy())\n",
    "        \n",
    "        # Check if the audio is below the threshold (silence)\n",
    "        if current_amplitude < threshold:\n",
    "            silence_counter += frames\n",
    "        else:\n",
    "            silence_counter = 0\n",
    "            \n",
    "        # Visual feedback of audio level\n",
    "        if frames % (sample_rate // 2) == 0:  # Update twice per second\n",
    "            print(f\"Audio level: {'|' * int(current_amplitude/threshold)}\")\n",
    "            \n",
    "        if silence_counter >= silence_samples:\n",
    "            raise sd.CallbackStop\n",
    "    \n",
    "    try:\n",
    "        with sd.InputStream(samplerate=sample_rate, channels=1, \n",
    "                          dtype=np.int16, callback=callback) as stream:\n",
    "            print(\"Recording started... Speak now\")\n",
    "            sd.sleep(int(max_duration * 1000))\n",
    "    except sd.CallbackStop:\n",
    "        print(\"\\nRecording stopped due to silence\")\n",
    "    except sd.CallbackAbort:\n",
    "        print(\"\\nRecording aborted due to device error\")\n",
    "    except Exception as e:\n",
    "        print(f\"\\nError during recording: {str(e)}\")\n",
    "        return None, None\n",
    "\n",
    "    if len(buffer) == 0:\n",
    "        print(\"No audio recorded!\")\n",
    "        return None, None\n",
    "\n",
    "    print(f\"Peak amplitude detected: {peak_amplitude}\")\n",
    "    \n",
    "    # Generate unique filename with timestamp\n",
    "    timestamp = datetime.now().strftime(\"%Y%m%d_%H%M%S\")\n",
    "    filename = f'recorded_audio_{timestamp}.wav'\n",
    "    \n",
    "    try:\n",
    "        audio = np.concatenate(buffer, axis=0)\n",
    "        wav.write(filename, sample_rate, audio)\n",
    "        print(f\"Audio saved as: {filename}\")\n",
    "        return audio, sample_rate\n",
    "    except Exception as e:\n",
    "        print(f\"Error saving audio: {str(e)}\")\n",
    "        return None, None\n",
    "\n",
    "# Record audio until silence is detected\n",
    "audio_data, sr = record_until_silence()\n",
    "if audio_data is not None:\n",
    "    print(f\"Successfully recorded {len(audio_data)/sr:.2f} seconds of audio\")"
   ]
  },
  {
   "cell_type": "markdown",
   "id": "e14a0e81",
   "metadata": {},
   "source": [
    "# Step 2: Process audio and detect pattern and build memory support."
   ]
  },
  {
   "cell_type": "code",
   "execution_count": null,
   "id": "bf363aef",
   "metadata": {},
   "outputs": [],
   "source": []
  }
 ],
 "metadata": {
  "kernelspec": {
   "display_name": "Python 3",
   "language": "python",
   "name": "python3"
  },
  "language_info": {
   "codemirror_mode": {
    "name": "ipython",
    "version": 3
   },
   "file_extension": ".py",
   "mimetype": "text/x-python",
   "name": "python",
   "nbconvert_exporter": "python",
   "pygments_lexer": "ipython3",
   "version": "3.13.3"
  }
 },
 "nbformat": 4,
 "nbformat_minor": 5
}
